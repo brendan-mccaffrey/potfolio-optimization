{
  "nbformat": 4,
  "nbformat_minor": 0,
  "metadata": {
    "colab": {
      "name": "Inflation.ipynb",
      "provenance": [],
      "collapsed_sections": [
        "Z09kGi4qWlWx",
        "7E9j7Bf3-_JU"
      ],
      "authorship_tag": "ABX9TyPdxf3l3gKlE+xBlRAmoIlW",
      "include_colab_link": true
    },
    "kernelspec": {
      "name": "python3",
      "display_name": "Python 3"
    },
    "language_info": {
      "name": "python"
    }
  },
  "cells": [
    {
      "cell_type": "markdown",
      "metadata": {
        "id": "view-in-github",
        "colab_type": "text"
      },
      "source": [
        "<a href=\"https://colab.research.google.com/github/brendan-mccaffrey/potfolio-optimization/blob/main/Inflation.ipynb\" target=\"_parent\"><img src=\"https://colab.research.google.com/assets/colab-badge.svg\" alt=\"Open In Colab\"/></a>"
      ]
    },
    {
      "cell_type": "markdown",
      "source": [
        "# Stable Value Token\n",
        "## Research towards a collateral basket"
      ],
      "metadata": {
        "id": "ekZYyY3TG5ma"
      }
    },
    {
      "cell_type": "code",
      "execution_count": null,
      "metadata": {
        "id": "-LwiqygiG2jm"
      },
      "outputs": [],
      "source": [
        "# Import Dependencies\n",
        "!pip install pickle5\n",
        "\n",
        "import csv\n",
        "import numpy as np\n",
        "import pandas as pd\n",
        "import pickle5 as pickle\n",
        "import matplotlib.pyplot as plt\n",
        "\n",
        "plt.style.use('default')\n",
        "%matplotlib inline"
      ]
    },
    {
      "cell_type": "markdown",
      "source": [
        "### Load and Format Raw CPI+PPI Data"
      ],
      "metadata": {
        "id": "4gOqZ3sYQKaE"
      }
    },
    {
      "cell_type": "code",
      "source": [
        "# Read from csv and rename\n",
        "path = \"./data/\"\n",
        "name = \"US PPI Index\"\n",
        "\n",
        "df = pd.read_csv(path + \"ppi-1mo-index.csv\")\n",
        "df.set_index(\"DATE\", inplace=True)\n",
        "df.rename({df.columns[0]: name}, axis=1, inplace=True)"
      ],
      "metadata": {
        "id": "rm03IRnSLx31"
      },
      "execution_count": null,
      "outputs": []
    },
    {
      "cell_type": "code",
      "source": [
        "display(df.head(6))"
      ],
      "metadata": {
        "id": "whDalET1QvIy"
      },
      "execution_count": null,
      "outputs": []
    },
    {
      "cell_type": "code",
      "source": [
        "# Save Dataframe \n",
        "with open(path+\"us-ppi-index.pkl\", 'wb') as fp:\n",
        "    pickle.dump(df, fp)"
      ],
      "metadata": {
        "id": "zCMpUCEJNLBL"
      },
      "execution_count": null,
      "outputs": []
    },
    {
      "cell_type": "code",
      "source": [
        "# Get 2000 value and scale index such that 2000 = 100\n",
        "yrStart = 1913\n",
        "idx2000 = (2000-1913)*12\n",
        "scalar = 100.0 / df[idx2000:idx2000 + 1][name]\n",
        "\n",
        "df2 = df.copy()\n",
        "df2[name] = df2[name].apply(lambda x: x*scalar)"
      ],
      "metadata": {
        "id": "BSbRSLW7Ny9F"
      },
      "execution_count": null,
      "outputs": []
    },
    {
      "cell_type": "code",
      "source": [
        "display(df2[idx2000:])"
      ],
      "metadata": {
        "id": "PT3X4MwhRG1r"
      },
      "execution_count": null,
      "outputs": []
    },
    {
      "cell_type": "code",
      "source": [
        "# Save scaled dataframe\n",
        "with open(path+\"us-ppi-index-2000.pkl\", 'wb') as fp:\n",
        "    pickle.dump(df2, fp)"
      ],
      "metadata": {
        "id": "eR8k1wQ3PD1D"
      },
      "execution_count": null,
      "outputs": []
    },
    {
      "cell_type": "code",
      "source": [
        "# Plot from 2000\n",
        "df2[480:].plot(kind='line', figsize=(16,8))"
      ],
      "metadata": {
        "id": "YPuk0_dZPWh3"
      },
      "execution_count": null,
      "outputs": []
    },
    {
      "cell_type": "markdown",
      "source": [
        "## Merge CPI and PPI"
      ],
      "metadata": {
        "id": "pa4AhnApRVOS"
      }
    },
    {
      "cell_type": "code",
      "source": [
        "with open(path+\"us-cpi-index-2000.pkl\", 'rb') as fp:\n",
        "  cpi = pickle.load(fp)\n",
        "\n",
        "with open(path+\"us-ppi-index-2000.pkl\", 'rb') as fp:\n",
        "  ppi = pickle.load(fp)\n",
        "\n",
        "print(cpi.head(2))\n",
        "print(ppi.head(2))\n",
        "\n",
        "# Combine dataframes\n",
        "df = pd.concat([ppi, cpi], axis=1)"
      ],
      "metadata": {
        "id": "I5q69TRiRXSr"
      },
      "execution_count": null,
      "outputs": []
    },
    {
      "cell_type": "code",
      "source": [
        "print(\"Merged -- \")\n",
        "print(df)"
      ],
      "metadata": {
        "id": "OHnlfS6GTMaF"
      },
      "execution_count": null,
      "outputs": []
    },
    {
      "cell_type": "code",
      "source": [
        "with open(path+\"us-index-2000.pkl\", 'wb') as fp:\n",
        "  pickle.dump(df, fp)"
      ],
      "metadata": {
        "id": "XIyqxv-9SzXf"
      },
      "execution_count": null,
      "outputs": []
    },
    {
      "cell_type": "markdown",
      "source": [
        "### Analyze CPI and PPI"
      ],
      "metadata": {
        "id": "ZqGBLOYQTC4n"
      }
    },
    {
      "cell_type": "code",
      "source": [
        "with open(path+\"us-index-2000.pkl\", 'rb') as fp:\n",
        "  df = pickle.load(fp)"
      ],
      "metadata": {
        "id": "-2lewxXnTBUc"
      },
      "execution_count": null,
      "outputs": []
    },
    {
      "cell_type": "code",
      "source": [
        "df[idx2000:].plot(kind='line', title=\"US CPI and PPI, 2000-2022\", figsize=(16,8))"
      ],
      "metadata": {
        "id": "mFmywCsdTIsw"
      },
      "execution_count": null,
      "outputs": []
    },
    {
      "cell_type": "code",
      "source": [
        "# Save benchmark data\n",
        "with open(path+\"benchmark.pkl\", 'wb') as fp:\n",
        "  pickle.dump(df[idx2000:], fp)"
      ],
      "metadata": {
        "id": "DMga3wG1V3MK"
      },
      "execution_count": null,
      "outputs": []
    },
    {
      "cell_type": "markdown",
      "source": [
        "## Load and Format Asset Data"
      ],
      "metadata": {
        "id": "Z09kGi4qWlWx"
      }
    },
    {
      "cell_type": "code",
      "source": [
        "# Import Yahoo Finance Module\n",
        "!pip3 install yfinance\n",
        "!pip3 install investpy\n",
        "\n",
        "import investpy\n",
        "import yfinance as yf\n",
        "import datetime"
      ],
      "metadata": {
        "id": "hIIkfQVWWpn-"
      },
      "execution_count": null,
      "outputs": []
    },
    {
      "cell_type": "code",
      "source": [
        "# Tickers\n",
        "# GOLD = \"GLD\"\n",
        "WATER = \"TR\"\n",
        "ENERGY = \"XLE\"\n",
        "HEALTHCARE = \"XLV\"\n",
        "SNP = \"SPY\"\n",
        "DJI = \"DJI\"\n",
        "NSDQ = \"^IXIC\"\n",
        "\n",
        "Yassets = [WATER, ENERGY, HEALTHCARE, DJI, NSDQ, SNP]"
      ],
      "metadata": {
        "id": "RcgV9KDrW0oA"
      },
      "execution_count": null,
      "outputs": []
    },
    {
      "cell_type": "code",
      "source": [
        "start = True\n",
        "for asset in Yassets:\n",
        "  if start:\n",
        "    st = yf.download(asset, start='2000-01-01', interval='1mo')\n",
        "    df = st.copy()[['Close']]\n",
        "    df.rename({df.columns[0]:asset}, axis=1, inplace=True)\n",
        "    start = False\n",
        "  else:\n",
        "    df2 = yf.download(asset, start='2000-01-01', interval='1mo')\n",
        "    df1 = df2.copy()[['Close']]\n",
        "    df1.rename({df1.columns[0]:asset}, axis=1, inplace=True)\n",
        "    df = pd.concat([df,df1], axis=1)"
      ],
      "metadata": {
        "id": "k7REoyvnW--m"
      },
      "execution_count": null,
      "outputs": []
    },
    {
      "cell_type": "code",
      "source": [
        "df=df.dropna(how='all')\n",
        "print(df.head(10))"
      ],
      "metadata": {
        "id": "wOSw0p3xiwtH"
      },
      "execution_count": null,
      "outputs": []
    },
    {
      "cell_type": "code",
      "source": [
        "print(df[220:240])"
      ],
      "metadata": {
        "id": "pyYG78fJyc3v"
      },
      "execution_count": null,
      "outputs": []
    },
    {
      "cell_type": "code",
      "source": [
        "# Scale with year 2000 = 100\n",
        "sdf = df.copy()\n",
        "for name in df.columns:\n",
        "  scalar = 100.0 / df[name][0]\n",
        "  sdf[name] = sdf[name].apply(lambda x: x*scalar)"
      ],
      "metadata": {
        "id": "picMJWH5iyZ8"
      },
      "execution_count": null,
      "outputs": []
    },
    {
      "cell_type": "code",
      "source": [
        "print(sdf.head(10))"
      ],
      "metadata": {
        "colab": {
          "base_uri": "https://localhost:8080/"
        },
        "id": "eHXwv6Writmy",
        "outputId": "1b071216-dd5c-48f0-b336-4a8087a766d2"
      },
      "execution_count": null,
      "outputs": [
        {
          "output_type": "stream",
          "name": "stdout",
          "text": [
            "                    TR         XLE         XLV         DJI       ^IXIC  \\\n",
            "Date                                                                     \n",
            "2000-01-01  100.000000  100.000000  100.000000  100.000000  100.000000   \n",
            "2000-02-01   94.246028   95.766590   93.461339   92.576206  119.194737   \n",
            "2000-03-01  103.000001  107.322654  101.868189   99.829993  116.051365   \n",
            "2000-04-01  100.751985  105.720824  100.674624   98.111607   97.977586   \n",
            "2000-05-01  112.809529  118.135011   97.976129   96.177504   86.309841   \n",
            "2000-06-01  114.444445  111.098398   98.183705   95.497467  100.653749   \n",
            "2000-07-01  123.640874  106.864989   96.730669   96.174763   95.600388   \n",
            "2000-08-01  131.611112  118.535469  100.155682  102.509937  106.750669   \n",
            "2000-09-01  128.341269  119.965675   96.523093   97.352958   93.210501   \n",
            "2000-10-01  125.480163  116.704805   97.976129  100.279691   85.516002   \n",
            "\n",
            "                   SPY  \n",
            "Date                    \n",
            "2000-01-01  100.000000  \n",
            "2000-02-01   98.477385  \n",
            "2000-03-01  107.747425  \n",
            "2000-04-01  103.963278  \n",
            "2000-05-01  102.328706  \n",
            "2000-06-01  104.097627  \n",
            "2000-07-01  102.463054  \n",
            "2000-08-01  109.158083  \n",
            "2000-09-01  102.910882  \n",
            "2000-10-01  102.429467  \n"
          ]
        }
      ]
    },
    {
      "cell_type": "code",
      "source": [
        "# Save yahoo asset data\n",
        "with open(path+\"yahoo-assets.pkl\", 'wb') as fp:\n",
        "  pickle.dump(sdf, fp)"
      ],
      "metadata": {
        "id": "pIM9BXXbi2rY"
      },
      "execution_count": null,
      "outputs": []
    },
    {
      "cell_type": "code",
      "source": [
        "sdf.plot(kind='line', title='Yahoo Asset Performance', figsize=(16,9))"
      ],
      "metadata": {
        "colab": {
          "base_uri": "https://localhost:8080/",
          "height": 548
        },
        "id": "q55FPbJXjAcy",
        "outputId": "be560038-6cc8-4708-9a93-03e69ae3cd3a"
      },
      "execution_count": null,
      "outputs": [
        {
          "output_type": "execute_result",
          "data": {
            "text/plain": [
              "<matplotlib.axes._subplots.AxesSubplot at 0x7f3908b4cbd0>"
            ]
          },
          "metadata": {},
          "execution_count": 182
        },
        {
          "output_type": "display_data",
          "data": {
            "text/plain": [
              "<Figure size 1152x648 with 1 Axes>"
            ],
            "image/png": "[encoded data removed]"
          },
          "metadata": {
            "needs_background": "light"
          }
        }
      ]
    },
    {
      "cell_type": "code",
      "source": [
        "# Import Gold Data\n",
        "gld = pd.read_csv(path+\"gold.csv\")\n",
        "print(gld.head(50))"
      ],
      "metadata": {
        "id": "ZHI0sy5kjcZs"
      },
      "execution_count": null,
      "outputs": []
    },
    {
      "cell_type": "code",
      "source": [
        "gld = gld.copy()[33:]\n",
        "gld.reset_index(drop=True)"
      ],
      "metadata": {
        "id": "akuFc02MmC9m"
      },
      "execution_count": null,
      "outputs": []
    },
    {
      "cell_type": "code",
      "source": [
        "print(gld.head(6))"
      ],
      "metadata": {
        "colab": {
          "base_uri": "https://localhost:8080/"
        },
        "id": "BAXvrbVuzIXG",
        "outputId": "4cb7da29-52f1-4bc2-81ac-5ad9f52ee1f3"
      },
      "execution_count": null,
      "outputs": [
        {
          "output_type": "stream",
          "name": "stdout",
          "text": [
            "     Month    Gold  Change\n",
            "33  Jan-00  284.32   0.44%\n",
            "34  Feb-00  299.86   5.47%\n",
            "35  Mar-00  286.39  -4.49%\n",
            "36  Apr-00  279.69  -2.34%\n",
            "37  May-00  275.19  -1.61%\n",
            "38  Jun-00  285.73   3.83%\n"
          ]
        }
      ]
    },
    {
      "cell_type": "code",
      "source": [
        "gld['Gold'] = gld['Gold'].apply(lambda x: x.replace(',',''))\n",
        "gld['Gold'] = gld['Gold'].astype(float)"
      ],
      "metadata": {
        "id": "EZRKiW6rodjA"
      },
      "execution_count": null,
      "outputs": []
    },
    {
      "cell_type": "code",
      "source": [
        "print(gld[['Gold']])"
      ],
      "metadata": {
        "colab": {
          "base_uri": "https://localhost:8080/"
        },
        "id": "jThrfP4ZqAXC",
        "outputId": "a41902d9-d3d4-47ec-956e-a88bd1043e1d"
      },
      "execution_count": null,
      "outputs": [
        {
          "output_type": "stream",
          "name": "stdout",
          "text": [
            "        Gold\n",
            "33    284.32\n",
            "34    299.86\n",
            "35    286.39\n",
            "36    279.69\n",
            "37    275.19\n",
            "..       ...\n",
            "295  1821.76\n",
            "296  1790.43\n",
            "297  1816.02\n",
            "298  1856.30\n",
            "299  1947.83\n",
            "\n",
            "[267 rows x 1 columns]\n"
          ]
        }
      ]
    },
    {
      "cell_type": "code",
      "source": [
        "gld_scale = 100.0 / gld['Gold'][33]\n",
        "# print(gld_scale)\n",
        "gld['Gold'] = gld['Gold'].apply(lambda x: x*gld_scale)\n",
        "print(gld.head(4))"
      ],
      "metadata": {
        "colab": {
          "base_uri": "https://localhost:8080/"
        },
        "id": "ZGTJtvV2qBML",
        "outputId": "df1c4b70-cd73-45ee-dcfa-c1c64b32e789"
      },
      "execution_count": null,
      "outputs": [
        {
          "output_type": "stream",
          "name": "stdout",
          "text": [
            "     Month        Gold  Change\n",
            "33  Jan-00  100.000000   0.44%\n",
            "34  Feb-00  105.465672   5.47%\n",
            "35  Mar-00  100.728053  -4.49%\n",
            "36  Apr-00   98.371553  -2.34%\n"
          ]
        }
      ]
    },
    {
      "cell_type": "code",
      "source": [
        "gold = pd.Series(gld_price['Gold'])\n",
        "print(gold)"
      ],
      "metadata": {
        "colab": {
          "base_uri": "https://localhost:8080/"
        },
        "id": "4-sHoul7qyX-",
        "outputId": "92eda5b1-74c3-4d04-94d4-fb58441f9884"
      },
      "execution_count": null,
      "outputs": [
        {
          "output_type": "stream",
          "name": "stdout",
          "text": [
            "33     100.000000\n",
            "34     105.465672\n",
            "35     100.728053\n",
            "36      98.371553\n",
            "37      96.788829\n",
            "          ...    \n",
            "295    640.742825\n",
            "296    629.723551\n",
            "297    638.723973\n",
            "298    652.891109\n",
            "299    685.083708\n",
            "Name: Gold, Length: 267, dtype: float64\n"
          ]
        }
      ]
    },
    {
      "cell_type": "code",
      "source": [
        "# Load yahoo asset data\n",
        "with open(path+\"yahoo-assets.pkl\", 'rb') as fp:\n",
        "  ydf = pickle.load(fp)"
      ],
      "metadata": {
        "id": "4g0-qKpAmmcn"
      },
      "execution_count": null,
      "outputs": []
    },
    {
      "cell_type": "code",
      "source": [
        "print(ydf)"
      ],
      "metadata": {
        "colab": {
          "base_uri": "https://localhost:8080/"
        },
        "id": "UEklJqYZsZun",
        "outputId": "c500926a-3af8-471f-c089-b52d3e931425"
      },
      "execution_count": null,
      "outputs": [
        {
          "output_type": "stream",
          "name": "stdout",
          "text": [
            "                    TR         XLE         XLV         DJI       ^IXIC  \\\n",
            "Date                                                                     \n",
            "2000-01-01  100.000000  100.000000  100.000000  100.000000  100.000000   \n",
            "2000-02-01   94.246028   95.766590   93.461339   92.576206  119.194737   \n",
            "2000-03-01  103.000001  107.322654  101.868189   99.829993  116.051365   \n",
            "2000-04-01  100.751985  105.720824  100.674624   98.111607   97.977586   \n",
            "2000-05-01  112.809529  118.135011   97.976129   96.177504   86.309841   \n",
            "...                ...         ...         ...         ...         ...   \n",
            "2022-02-01  177.090824  258.416483  431.626385  309.790243  348.989304   \n",
            "2022-03-01  188.943047  279.871862  454.974590  309.778354  360.894824   \n",
            "2022-04-01  189.321364  275.148747  432.722344         NaN  313.034105   \n",
            "2022-05-01  179.593179  285.986272  422.625843         NaN  288.577402   \n",
            "2022-05-13  180.538971  295.835251  426.578109         NaN  298.680531   \n",
            "\n",
            "                   SPY        Gold  \n",
            "Date                                \n",
            "2000-01-01  100.000000  100.000000  \n",
            "2000-02-01   98.477385  105.465672  \n",
            "2000-03-01  107.747425  100.728053  \n",
            "2000-04-01  103.963278   98.371553  \n",
            "2000-05-01  102.328706   96.788829  \n",
            "...                ...         ...  \n",
            "2022-02-01  312.856251  652.891109  \n",
            "2022-03-01  323.611296  685.083708  \n",
            "2022-04-01  295.208240         NaN  \n",
            "2022-05-01  281.121359         NaN  \n",
            "2022-05-13  286.903720         NaN  \n",
            "\n",
            "[270 rows x 7 columns]\n"
          ]
        }
      ]
    },
    {
      "cell_type": "code",
      "source": [
        "ydf[\"Gold\"] = gold"
      ],
      "metadata": {
        "id": "Wrc9SRQFseU4"
      },
      "execution_count": null,
      "outputs": []
    },
    {
      "cell_type": "code",
      "source": [
        "ctr = -1\n",
        "for val in ydf[\"Gold\"]:\n",
        "  ctr += 1\n",
        "  print(ctr)\n",
        "  ydf[\"Gold\"][ctr] = gold[33+ctr]"
      ],
      "metadata": {
        "id": "qYo5Ii9EspPt"
      },
      "execution_count": null,
      "outputs": []
    },
    {
      "cell_type": "code",
      "source": [
        "# Save asset data\n",
        "with open(path+\"assets.pkl\", 'wb') as fp:\n",
        "  pickle.dump(ydf, fp)"
      ],
      "metadata": {
        "id": "bFdMa47XtIEG"
      },
      "execution_count": null,
      "outputs": []
    },
    {
      "cell_type": "markdown",
      "source": [
        "# Now we can analyze our data"
      ],
      "metadata": {
        "id": "d7a2-3G7tfNr"
      }
    },
    {
      "cell_type": "code",
      "source": [
        "with open(path+\"assets.pkl\", 'rb') as fp:\n",
        "  dfAssets = pickle.load(fp)\n",
        "with open(path+\"benchmark.pkl\", 'rb') as fp:\n",
        "  dfBenchmark = pickle.load(fp)"
      ],
      "metadata": {
        "id": "7H06TdDpthzZ"
      },
      "execution_count": null,
      "outputs": []
    },
    {
      "cell_type": "code",
      "source": [
        "# Plot\n",
        "dfAssets.plot(kind='line', title=\"Asset Performance\", figsize=(16,9))\n",
        "dfBenchmark.plot(kind='line', title=\"CPI & PPI\", figsize=(16,9))"
      ],
      "metadata": {
        "id": "QFGvJLbpuWf_"
      },
      "execution_count": null,
      "outputs": []
    },
    {
      "cell_type": "code",
      "source": [
        "dfAssets.drop(dfAssets.tail(2).index,inplace=True)"
      ],
      "metadata": {
        "id": "QNa3C6Ks2FKm"
      },
      "execution_count": null,
      "outputs": []
    },
    {
      "cell_type": "code",
      "source": [
        "print(newdf)"
      ],
      "metadata": {
        "id": "dq4aGj072P7q"
      },
      "execution_count": null,
      "outputs": []
    },
    {
      "cell_type": "code",
      "source": [
        "dfBenchmark[\"US PPI Index\"] = dfBenchmark[\"US PPI Index\"].astype(float)"
      ],
      "metadata": {
        "id": "4rmXyFhX1lGj"
      },
      "execution_count": null,
      "outputs": []
    },
    {
      "cell_type": "code",
      "source": [
        "print(dfBenchmark.head(3))\n",
        "print(dfAssets.head(3))"
      ],
      "metadata": {
        "colab": {
          "base_uri": "https://localhost:8080/"
        },
        "id": "mODju_x6u0yq",
        "outputId": "40b7b4d3-c21d-4e0a-a42f-7085f9113b9d"
      },
      "execution_count": null,
      "outputs": [
        {
          "output_type": "stream",
          "name": "stdout",
          "text": [
            "            US PPI Index  US CPI Index\n",
            "DATE                                  \n",
            "2000-01-01    100.000000    100.000000\n",
            "2000-02-01    101.169135    100.413467\n",
            "2000-03-01    101.948558    101.004135\n",
            "                    TR         XLE         XLV         DJI       ^IXIC  \\\n",
            "Date                                                                     \n",
            "2000-01-01  100.000000  100.000000  100.000000  100.000000  100.000000   \n",
            "2000-02-01   94.246028   95.766590   93.461339   92.576206  119.194737   \n",
            "2000-03-01  103.000001  107.322654  101.868189   99.829993  116.051365   \n",
            "\n",
            "                   SPY        Gold  \n",
            "Date                                \n",
            "2000-01-01  100.000000  100.000000  \n",
            "2000-02-01   98.477385  105.465672  \n",
            "2000-03-01  107.747425  100.728053  \n"
          ]
        }
      ]
    },
    {
      "cell_type": "code",
      "source": [
        "print(type(dfBenchmark.index[0]))\n",
        "print(type(dfAssets.index[0]))"
      ],
      "metadata": {
        "colab": {
          "base_uri": "https://localhost:8080/"
        },
        "id": "ncqjBj0s4auS",
        "outputId": "7ab42bf1-485a-4486-d567-50832cb6371f"
      },
      "execution_count": null,
      "outputs": [
        {
          "output_type": "stream",
          "name": "stdout",
          "text": [
            "<class 'pandas._libs.tslibs.timestamps.Timestamp'>\n",
            "<class 'pandas._libs.tslibs.timestamps.Timestamp'>\n"
          ]
        }
      ]
    },
    {
      "cell_type": "code",
      "source": [
        "dfBenchmark.index = pd.to_datetime(dfBenchmark.index)"
      ],
      "metadata": {
        "id": "Az5TPJtE5OYx"
      },
      "execution_count": null,
      "outputs": []
    },
    {
      "cell_type": "code",
      "source": [
        "# Save frames\n",
        "with open(path+\"assets.pkl\", 'wb') as fp:\n",
        "  pickle.dump(dfAssets, fp)\n",
        "with open(path+\"benchmark.pkl\", 'wb') as fp:\n",
        "  pickle.dump(dfBenchmark, fp)"
      ],
      "metadata": {
        "id": "9aER5syA32rh"
      },
      "execution_count": null,
      "outputs": []
    },
    {
      "cell_type": "code",
      "source": [
        "df = pd.concat([dfAssets, dfBenchmark], axis=1, join='outer')"
      ],
      "metadata": {
        "id": "Z-3OdCXeuZal"
      },
      "execution_count": null,
      "outputs": []
    },
    {
      "cell_type": "code",
      "source": [
        "# Save frames\n",
        "with open(path+\"final-2000.pkl\", 'wb') as fp:\n",
        "  pickle.dump(df, fp)"
      ],
      "metadata": {
        "id": "S9jnSLWR64a-"
      },
      "execution_count": null,
      "outputs": []
    },
    {
      "cell_type": "code",
      "source": [
        "print(df.head(10))"
      ],
      "metadata": {
        "id": "8q3mcMSv1UcI"
      },
      "execution_count": null,
      "outputs": []
    },
    {
      "cell_type": "code",
      "source": [
        "df.plot(kind='line', title='Core Assets vs CPI/PPI', figsize=(16,9))"
      ],
      "metadata": {
        "id": "eaN1i0WfutF8"
      },
      "execution_count": null,
      "outputs": []
    },
    {
      "cell_type": "code",
      "source": [
        "tips = st = yf.download(\"TIP\", start='2000-01-01', interval='1mo')"
      ],
      "metadata": {
        "id": "ocxhkt8Y9iTK"
      },
      "execution_count": null,
      "outputs": []
    },
    {
      "cell_type": "code",
      "source": [
        "tips = tips.copy()[['Close']]\n",
        "tips.rename({tips.columns[0]:\"TIP\"}, axis=1, inplace=True)\n"
      ],
      "metadata": {
        "id": "yKY7ICoL91ft"
      },
      "execution_count": null,
      "outputs": []
    },
    {
      "cell_type": "code",
      "source": [
        "tips = tips.dropna()"
      ],
      "metadata": {
        "id": "uqHEF-tG-E4P"
      },
      "execution_count": null,
      "outputs": []
    },
    {
      "cell_type": "code",
      "source": [
        "newdf = pd.concat([df,tips], axis=1, join='outer')"
      ],
      "metadata": {
        "id": "hgvi4gOT-YGa"
      },
      "execution_count": null,
      "outputs": []
    },
    {
      "cell_type": "code",
      "source": [
        "print(newdf[35:55])"
      ],
      "metadata": {
        "colab": {
          "base_uri": "https://localhost:8080/"
        },
        "id": "vyUINJVH-llV",
        "outputId": "85b915b6-b724-488e-e7f9-e46c95a02b07"
      },
      "execution_count": null,
      "outputs": [
        {
          "output_type": "stream",
          "name": "stdout",
          "text": [
            "                    TR         XLE         XLV        DJI      ^IXIC  \\\n",
            "2002-12-01  106.428149   81.757437   88.178513  76.245417  33.893181   \n",
            "2003-01-01   98.171988   79.707095   87.879603  73.614643  33.522657   \n",
            "2003-02-01  100.473999   82.050343   85.920086  72.127234  33.944192   \n",
            "2003-03-01  101.938941   81.720823   88.743122  73.050865  34.036824   \n",
            "2003-04-01  103.546818   81.025169   91.665803  77.510990  37.161928   \n",
            "2003-05-01  105.940749   89.629289   93.558900  80.894473  40.501732   \n",
            "2003-06-01  108.942111   88.054917   97.411520  82.130071  41.184159   \n",
            "2003-07-01  108.656260   84.942795   95.950180  84.400163  44.032129   \n",
            "2003-08-01  108.406148   90.361557   92.396470  86.063894  45.946424   \n",
            "2003-09-01  110.764361   88.054917   92.363257  84.777291  45.349776   \n",
            "2003-10-01  117.874717   88.897028   92.994292  89.585669  49.036505   \n",
            "2003-11-01  125.592494   89.592675   94.987028  89.415109  49.748372   \n",
            "2003-12-01  128.629584  100.869562  100.134923  95.552309  50.842436   \n",
            "2004-01-01  128.629584  103.139588  102.891540  95.864902  52.435694   \n",
            "2004-02-01  137.088758  108.558351  103.987544  96.740555  51.513695   \n",
            "2004-03-01  134.549397  107.423342   99.404256  94.673006  50.610223   \n",
            "2004-04-01  128.219394  109.254005  102.492996  93.465560  48.730442   \n",
            "2004-05-01  125.496028  108.924485  102.160873  93.126457  50.420393   \n",
            "2004-06-01  119.607645  115.258580  101.496625  95.384123  51.969749   \n",
            "2004-07-01  107.830890  118.810071   96.049819  92.680409  47.898282   \n",
            "\n",
            "                  SPY        Gold  US PPI Index  US CPI Index         TIP  \n",
            "2002-12-01  63.218990  116.741699    103.585347    107.383343         NaN  \n",
            "2003-01-01  61.664127  125.513506    105.455963    107.855877         NaN  \n",
            "2003-02-01  60.832961  126.255627    107.248636    108.446545         NaN  \n",
            "2003-03-01  60.718315  119.777012    110.054560    108.623745         NaN  \n",
            "2003-04-01  65.855802  115.426280    106.625097    108.210278         NaN  \n",
            "2003-05-01  69.467082  125.098481    106.547155    108.033077         NaN  \n",
            "2003-06-01  69.954320  125.334131    107.560405    108.151211         NaN  \n",
            "2003-07-01  71.215405  123.459482    107.326578    108.505611         NaN  \n",
            "2003-08-01  72.684283  126.537001    107.560405    108.978145         NaN  \n",
            "2003-09-01  71.616657  133.282921    107.950117    109.332546         NaN  \n",
            "2003-10-01  75.450069  133.272369    108.573655    109.214412         NaN  \n",
            "2003-11-01  76.274069  137.137732    108.261886    109.273479         NaN  \n",
            "2003-12-01  79.734885  143.130979    108.729540    109.568813         NaN  \n",
            "2004-01-01  81.311243  145.536719    110.210444    110.041347  102.949997  \n",
            "2004-02-01  82.414686  142.402926    110.756041    110.277614  105.160004  \n",
            "2004-03-01  81.038960  143.032499    111.535464    110.513881  106.910004  \n",
            "2004-04-01  79.505597  141.833146    112.860483    110.691081  101.260002  \n",
            "2004-05-01  80.866996  134.981711    114.419330    111.163615  102.750000  \n",
            "2004-06-01  82.063591  138.002954    114.731099    111.577082  101.919998  \n",
            "2004-07-01  79.419612  140.014772    114.886984    111.695216  102.330002  \n"
          ]
        }
      ]
    },
    {
      "cell_type": "markdown",
      "source": [
        "## Get Portfolio"
      ],
      "metadata": {
        "id": "7E9j7Bf3-_JU"
      }
    },
    {
      "cell_type": "code",
      "source": [
        "portfolio = newdf.drop(columns=[\"US PPI Index\", \"US CPI Index\"])"
      ],
      "metadata": {
        "id": "KLL-4VPk_Atn"
      },
      "execution_count": null,
      "outputs": []
    },
    {
      "cell_type": "code",
      "source": [
        "print(newdf[35:55])"
      ],
      "metadata": {
        "id": "uPmG9F_R_TIq"
      },
      "execution_count": null,
      "outputs": []
    },
    {
      "cell_type": "code",
      "source": [
        "with open(path+\"portfolio.pkl\", 'wb') as fp:\n",
        "  pickle.dump(portfolio, fp)"
      ],
      "metadata": {
        "id": "eJCaSaXA_YrW"
      },
      "execution_count": null,
      "outputs": []
    },
    {
      "cell_type": "code",
      "source": [
        "with open(path+\"portfolio.pkl\", 'rb') as fp:\n",
        "  portfolio = pickle.load(fp)"
      ],
      "metadata": {
        "id": "yc63j4LCAD78"
      },
      "execution_count": null,
      "outputs": []
    },
    {
      "cell_type": "code",
      "source": [
        "rets = portfolio.pct_change()"
      ],
      "metadata": {
        "id": "BFsXooue_mm1"
      },
      "execution_count": null,
      "outputs": []
    },
    {
      "cell_type": "code",
      "source": [
        "rets.drop(rets.head(48).index,inplace=True)"
      ],
      "metadata": {
        "id": "-CHYx6ad_0F-"
      },
      "execution_count": null,
      "outputs": []
    },
    {
      "cell_type": "code",
      "source": [
        "print(rets)"
      ],
      "metadata": {
        "colab": {
          "base_uri": "https://localhost:8080/"
        },
        "id": "qPj2PpJW_pev",
        "outputId": "ad0a4048-5728-4fbd-a036-82ee028f6192"
      },
      "execution_count": null,
      "outputs": [
        {
          "output_type": "stream",
          "name": "stdout",
          "text": [
            "                  TR       XLE       XLV       DJI     ^IXIC       SPY  \\\n",
            "2004-01-01  0.000000  0.022505  0.027529  0.003271  0.031337  0.019770   \n",
            "2004-02-01  0.065764  0.052538  0.010652  0.009134 -0.017583  0.013571   \n",
            "2004-03-01 -0.018523 -0.010455 -0.044075 -0.021372 -0.017538 -0.016693   \n",
            "2004-04-01 -0.047046  0.017042  0.031073 -0.012754 -0.037142 -0.018921   \n",
            "2004-05-01 -0.021240 -0.003016 -0.003240 -0.003628  0.034680  0.017123   \n",
            "...              ...       ...       ...       ...       ...       ...   \n",
            "2022-02-01 -0.005891  0.070692 -0.009678 -0.035276 -0.034304 -0.029517   \n",
            "2022-03-01  0.066927  0.083026  0.054094 -0.000038  0.034114  0.034377   \n",
            "2022-04-01  0.002002 -0.016876 -0.048909  0.000000 -0.132617 -0.087769   \n",
            "2022-05-01  0.000000  0.000000  0.000000  0.000000  0.000000  0.000000   \n",
            "2022-05-13  0.000000  0.000000  0.000000  0.000000  0.000000  0.000000   \n",
            "\n",
            "                Gold       TIP  \n",
            "2004-01-01  0.016808  0.000000  \n",
            "2004-02-01 -0.021533  0.021467  \n",
            "2004-03-01  0.004421  0.016641  \n",
            "2004-04-01 -0.008385 -0.052848  \n",
            "2004-05-01 -0.048306  0.014715  \n",
            "...              ...       ...  \n",
            "2022-02-01  0.022180  0.005058  \n",
            "2022-03-01  0.049308 -0.020522  \n",
            "2022-04-01  0.000000 -0.028097  \n",
            "2022-05-01  0.000000 -0.024531  \n",
            "2022-05-13  0.000000  0.004438  \n",
            "\n",
            "[222 rows x 8 columns]\n"
          ]
        }
      ]
    },
    {
      "cell_type": "code",
      "source": [
        "rets['TIP'] = rets['TIP'].fillna(0)"
      ],
      "metadata": {
        "id": "CY0HyYKXAVmj"
      },
      "execution_count": null,
      "outputs": []
    },
    {
      "cell_type": "code",
      "source": [
        "with open(path+\"port-rets.pkl\", 'wb') as fp:\n",
        "  pickle.dump(rets, fp)"
      ],
      "metadata": {
        "id": "MmtybrjXAl3K"
      },
      "execution_count": null,
      "outputs": []
    },
    {
      "cell_type": "markdown",
      "source": [
        "## Optimize Portfolio"
      ],
      "metadata": {
        "id": "oi_aMYOrCDJ0"
      }
    },
    {
      "cell_type": "code",
      "source": [
        "from numpy.linalg import inv"
      ],
      "metadata": {
        "id": "9WYmo2_PCSkg"
      },
      "execution_count": null,
      "outputs": []
    },
    {
      "cell_type": "code",
      "source": [
        "with open(path+\"port-rets.pkl\", 'rb') as fp:\n",
        "  rets = pickle.load(fp)\n",
        "names = rets.columns"
      ],
      "metadata": {
        "id": "7eDlxQC1CHQj"
      },
      "execution_count": null,
      "outputs": []
    },
    {
      "cell_type": "code",
      "source": [
        "# calculate historical mean return for each asset\n",
        "E = np.array(rets.mean(axis=0)).reshape(-1, 1)\n",
        "\n",
        "# Calculate covariance matrix of assets' returns\n",
        "cov_matrix = np.array(rets.cov())\n",
        "\n",
        "# Ones vector\n",
        "ones = np.ones((E.shape[0], 1))\n",
        "\n",
        "# Zeros\n",
        "zeros = np.zeros((2, 2))\n",
        "\n",
        "# Put together the A matrix\n",
        "A = 2 * cov_matrix\n",
        "A = np.append(A, E.T, axis=0)\n",
        "A = np.append(A, ones.T, axis=0)\n",
        "temp = np.append(E, ones, axis=1)\n",
        "temp = np.append(temp, zeros, axis=0)\n",
        "A = np.append(A, temp, axis=1)\n",
        "\n",
        "# Put together the b vector\n",
        "b = np.zeros((A.shape[1], 1))\n",
        "\n",
        "# I set target return to be the expected return of commodities\n",
        "b[A.shape[1] - 2][0] = E[0]\n",
        "b[A.shape[1] - 1][0] = 1\n",
        "\n",
        "# Now we want to optimize using matrix algebra\n",
        "results = inv(A) @ b\n",
        "\n",
        "# Grab first 4 elements of results because those are the weights\n",
        "# Recall that we optimize across 4 assets so there are 4 weights\n",
        "opt_W = results[: rets.shape[1]]\n",
        "\n",
        "\n",
        "optimal_weights = pd.DataFrame(opt_W, columns=[\"Optimal Weights\"], index=names)"
      ],
      "metadata": {
        "id": "CTqOkAq4CGIV"
      },
      "execution_count": null,
      "outputs": []
    },
    {
      "cell_type": "code",
      "source": [
        "# show the result\n",
        "print(optimal_weights)"
      ],
      "metadata": {
        "colab": {
          "base_uri": "https://localhost:8080/"
        },
        "id": "EwBQ8lovCaC2",
        "outputId": "27c69cb7-4a47-4078-c1da-a462a672f711"
      },
      "execution_count": null,
      "outputs": [
        {
          "output_type": "stream",
          "name": "stdout",
          "text": [
            "       Optimal Weights\n",
            "TR            0.064822\n",
            "XLE           0.016530\n",
            "XLV           0.081955\n",
            "DJI           0.000082\n",
            "^IXIC         0.051022\n",
            "SPY          -0.012102\n",
            "Gold          0.197415\n",
            "TIP           0.600276\n"
          ]
        }
      ]
    },
    {
      "cell_type": "code",
      "source": [
        "# TODO, show performance and volatility of weighted portfolio\n",
        "# and compare that to cpi + ppi benchmarks"
      ],
      "metadata": {
        "id": "ZLRvSP3ADyv8"
      },
      "execution_count": null,
      "outputs": []
    }
  ]
}