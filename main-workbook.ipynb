{
  "nbformat": 4,
  "nbformat_minor": 0,
  "metadata": {
    "colab": {
      "name": "wb2.ipynb",
      "provenance": [],
      "authorship_tag": "ABX9TyORteHZcOPIuS/rxveP1CFk",
      "include_colab_link": true
    },
    "kernelspec": {
      "name": "python3",
      "display_name": "Python 3"
    },
    "language_info": {
      "name": "python"
    }
  },
  "cells": [
    {
      "cell_type": "markdown",
      "metadata": {
        "id": "view-in-github",
        "colab_type": "text"
      },
      "source": [
        "<a href=\"https://colab.research.google.com/github/brendan-mccaffrey/potfolio-optimization/blob/main/main-workbook.ipynb\" target=\"_parent\"><img src=\"https://colab.research.google.com/assets/colab-badge.svg\" alt=\"Open In Colab\"/></a>"
      ]
    },
    {
      "cell_type": "code",
      "execution_count": null,
      "metadata": {
        "id": "ejpr9cC_PDYd"
      },
      "outputs": [],
      "source": [
        "# Import Dependencies\n",
        "!pip install pickle5\n",
        "!pip install yfinance\n",
        "\n",
        "import csv\n",
        "import datetime\n",
        "import numpy as np\n",
        "import pandas as pd\n",
        "import yfinance as yf\n",
        "import pickle5 as pickle\n",
        "import matplotlib.pyplot as plt\n",
        "\n",
        "from numpy.linalg import inv\n",
        "\n",
        "plt.style.use('default')\n",
        "%matplotlib inline"
      ]
    },
    {
      "cell_type": "markdown",
      "source": [
        "### Extra Stuff"
      ],
      "metadata": {
        "id": "x-t2MqOmb3qW"
      }
    },
    {
      "cell_type": "code",
      "source": [
        "# Extra Imports\n",
        "\n",
        "# !pip install PyPortfolioOpt\n",
        "# !pip install pandas_datareader\n",
        "# !pip install scipy\n",
        "\n",
        "# import random\n",
        "# import scipy.optimize as sc\n",
        "\n",
        "# from pypfopt import EfficientFrontier\n",
        "# from pypfopt import risk_models\n",
        "# from pypfopt import expected_returns\n",
        "# from pandas_datareader import data as pdr"
      ],
      "metadata": {
        "id": "aBAGNNMjbo1M"
      },
      "execution_count": null,
      "outputs": []
    },
    {
      "cell_type": "markdown",
      "source": [
        "## Get CPI & PPI Data\n",
        "\n",
        "Historical Data for US CPI & PPI were downloaded in csv files from the [St. Louis Fed](https://fred.stlouisfed.org/series/CPALTT01USM657N) website"
      ],
      "metadata": {
        "id": "mZDz6z3lcIkb"
      }
    },
    {
      "cell_type": "code",
      "source": [
        "# PPI\n",
        "name = \"US PPI Index\"\n",
        "ppi_df = pd.read_csv(\"ppi-1mo-index.csv\")\n",
        "ppi_df.set_index(\"DATE\", inplace=True)\n",
        "ppi_df.rename({ppi_df.columns[0]: name}, axis=1, inplace=True)"
      ],
      "metadata": {
        "id": "7XUsZuJ9cLPJ"
      },
      "execution_count": 38,
      "outputs": []
    },
    {
      "cell_type": "code",
      "source": [
        "# CPI\n",
        "name = \"US CPI Index\"\n",
        "cpi_df = pd.read_csv(\"cpi-1mo-index.csv\")\n",
        "cpi_df.set_index(\"DATE\", inplace=True)\n",
        "cpi_df.rename({cpi_df.columns[0]: name}, axis=1, inplace=True)"
      ],
      "metadata": {
        "id": "0FeCqVC4cyN4"
      },
      "execution_count": 40,
      "outputs": []
    },
    {
      "cell_type": "code",
      "source": [
        "# Combine dataframes\n",
        "inf_df = pd.concat([ppi_df, cpi_df], axis=1)"
      ],
      "metadata": {
        "id": "y0q-5RM6dD5Q"
      },
      "execution_count": 42,
      "outputs": []
    },
    {
      "cell_type": "code",
      "source": [
        "# Drop NaNs\n",
        "inf_df = inf_df.dropna()\n",
        "\n",
        "# Converting the index as date\n",
        "inf_df.index = pd.to_datetime(inf_df.index)"
      ],
      "metadata": {
        "id": "y3bRfADodkZq"
      },
      "execution_count": 44,
      "outputs": []
    },
    {
      "cell_type": "code",
      "source": [
        "print(inf_df.head(10))"
      ],
      "metadata": {
        "colab": {
          "base_uri": "https://localhost:8080/"
        },
        "id": "kxEH2qP9dJil",
        "outputId": "a3b69337-d5a5-4ed7-dd8c-f5f33ff6c5bf"
      },
      "execution_count": 57,
      "outputs": [
        {
          "output_type": "stream",
          "name": "stdout",
          "text": [
            "            US PPI Index  US CPI Index\n",
            "DATE                                  \n",
            "1960-01-01          31.6     12.391516\n",
            "1960-02-01          31.6     12.408393\n",
            "1960-03-01          31.8     12.408393\n",
            "1960-04-01          31.8     12.463241\n",
            "1960-05-01          31.7     12.475898\n",
            "1960-06-01          31.7     12.492775\n",
            "1960-07-01          31.7     12.467460\n",
            "1960-08-01          31.6     12.492775\n",
            "1960-09-01          31.6     12.492775\n",
            "1960-10-01          31.7     12.551842\n"
          ]
        }
      ]
    },
    {
      "cell_type": "code",
      "source": [
        "# Save asset data\n",
        "with open(\"cpi-ppi-df.pkl\", 'wb') as fp:\n",
        "  pickle.dump(inf_df, fp)"
      ],
      "metadata": {
        "id": "JQuSte6RdxNg"
      },
      "execution_count": 58,
      "outputs": []
    },
    {
      "cell_type": "markdown",
      "source": [
        "## Get Asset Data"
      ],
      "metadata": {
        "id": "BMtS-31fb_0G"
      }
    },
    {
      "cell_type": "code",
      "source": [
        "# Tickers\n",
        "GOLD = \"GLD\"\n",
        "WATER = \"AWK\"\n",
        "ENERGY = \"XLE\"\n",
        "HEALTHCARE = \"XLV\"\n",
        "SNP = \"SPY\"\n",
        "DJI = \"DJI\"\n",
        "NSDQ = \"^IXIC\"\n",
        "REAL = \"IYR\"\n",
        "METALS = \"GLTR\"\n",
        "TIPS = \"TIP\"\n",
        "\n",
        "assets = [WATER, ENERGY, HEALTHCARE, DJI, NSDQ, SNP, REAL, METALS, TIPS, GOLD]"
      ],
      "metadata": {
        "id": "iHUzqizuPItu"
      },
      "execution_count": 26,
      "outputs": []
    },
    {
      "cell_type": "code",
      "source": [
        "start = True\n",
        "for asset in assets:\n",
        "  print(\"Querying asset: \", asset)\n",
        "  if start:\n",
        "    st = yf.download(asset, start='2004-01-01', interval='1d')\n",
        "    df = st.copy()[['Close']]\n",
        "    df.rename({df.columns[0]:asset}, axis=1, inplace=True)\n",
        "    start = False\n",
        "  else:\n",
        "    df2 = yf.download(asset, start='2004-01-01', interval='1d')\n",
        "    df1 = df2.copy()[['Close']]\n",
        "    df1.rename({df1.columns[0]:asset}, axis=1, inplace=True)\n",
        "    df = pd.concat([df,df1], axis=1)"
      ],
      "metadata": {
        "id": "-eOhGlvnPMpE"
      },
      "execution_count": null,
      "outputs": []
    },
    {
      "cell_type": "code",
      "source": [
        "df = df.dropna()\n",
        "df = df[48:]"
      ],
      "metadata": {
        "id": "3mmDn1_uPPYQ"
      },
      "execution_count": null,
      "outputs": []
    },
    {
      "cell_type": "code",
      "source": [
        "print(df.head(4))"
      ],
      "metadata": {
        "id": "ol2V_pMXPQwJ"
      },
      "execution_count": null,
      "outputs": []
    },
    {
      "cell_type": "code",
      "source": [
        "# Save asset data\n",
        "with open(\"raw-data.pkl\", 'wb') as fp:\n",
        "  pickle.dump(df, fp)"
      ],
      "metadata": {
        "id": "cvz9P_ezPUUf"
      },
      "execution_count": null,
      "outputs": []
    },
    {
      "cell_type": "markdown",
      "source": [
        "## Optimize Portfolio\n",
        "We will find the minimum variance portfolio, the tangency portfolio (efficient frontier x security market line), and the optimal portfolio targeting 10% return."
      ],
      "metadata": {
        "id": "sBj9WoywPXks"
      }
    },
    {
      "cell_type": "code",
      "source": [
        "# Load data\n",
        "with open(\"raw-data.pkl\", 'rb') as fp:\n",
        "  df = pickle.load(fp)"
      ],
      "metadata": {
        "id": "ID8i0hO7PZRB"
      },
      "execution_count": 8,
      "outputs": []
    },
    {
      "cell_type": "code",
      "source": [
        "print(df.head(4))"
      ],
      "metadata": {
        "id": "Rt-rqXWyP3NO"
      },
      "execution_count": null,
      "outputs": []
    },
    {
      "cell_type": "code",
      "source": [
        "returns_df = df.pct_change()[1:]"
      ],
      "metadata": {
        "id": "MEydDNuuPet5"
      },
      "execution_count": 10,
      "outputs": []
    },
    {
      "cell_type": "code",
      "source": [
        "print(returns_df.head(4))"
      ],
      "metadata": {
        "id": "Jr1ToB3lPmH6"
      },
      "execution_count": null,
      "outputs": []
    },
    {
      "cell_type": "code",
      "source": [
        "# Calculate return vector and covariance matrix\n",
        "r = ((1 + returns_df).prod())**(252/len(returns_df)) - 1\n",
        "cov = returns_df.cov()*252\n",
        "e = np.ones(len(r))"
      ],
      "metadata": {
        "id": "ZFeknex9QIwE"
      },
      "execution_count": 12,
      "outputs": []
    },
    {
      "cell_type": "code",
      "source": [
        "# define the investable universe\n",
        "icov = inv(cov)\n",
        "h = np.matmul(e, icov)\n",
        "g = np.matmul(r, icov)\n",
        "a = np.sum(e*h)\n",
        "b = np.sum(r*h)\n",
        "c = np.sum(r*g)\n",
        "d = a*c - b**2"
      ],
      "metadata": {
        "id": "uls4kDR4RH9z"
      },
      "execution_count": 15,
      "outputs": []
    },
    {
      "cell_type": "code",
      "source": [
        "# minimum variance and tangency portfolio\n",
        "mvp = h/a\n",
        "mvp_return = b/a\n",
        "mvp_risk = (1/a)**(1/2)\n",
        "\n",
        "tangency = g/b\n",
        "tangency_return = c/b\n",
        "tangency_risk = c**(1/2)/b"
      ],
      "metadata": {
        "id": "33MTx_TzR58W"
      },
      "execution_count": 18,
      "outputs": []
    },
    {
      "cell_type": "code",
      "source": [
        "tangency"
      ],
      "metadata": {
        "colab": {
          "base_uri": "https://localhost:8080/"
        },
        "id": "aqfpmgVnSley",
        "outputId": "f654d3c5-6419-4267-b000-2da60c5ce56e"
      },
      "execution_count": 20,
      "outputs": [
        {
          "output_type": "execute_result",
          "data": {
            "text/plain": [
              "array([ 0.27591302, -0.1100516 ,  0.21901316,  0.05877588,  0.28491201,\n",
              "        0.04375901, -0.35918672, -0.3038073 ,  0.5944021 ,  0.29627044])"
            ]
          },
          "metadata": {},
          "execution_count": 20
        }
      ]
    },
    {
      "cell_type": "code",
      "source": [
        "# plotting efficient portfolio frontier\n",
        "exp_returns = np.arange(0, 0.201, 0.001)\n",
        "risk = ((a*exp_returns**2 - 2*b*exp_returns + c)/d)**(1/2)\n",
        "plt.plot(risk, exp_returns)\n",
        "plt.scatter(mvp_risk, mvp_return)\n",
        "plt.scatter(tangency_risk, tangency_return)"
      ],
      "metadata": {
        "colab": {
          "base_uri": "https://localhost:8080/",
          "height": 282
        },
        "id": "2b5yGQmLSiyN",
        "outputId": "af22cf91-3129-4c0b-e958-790c2b154c6b"
      },
      "execution_count": 22,
      "outputs": [
        {
          "output_type": "execute_result",
          "data": {
            "text/plain": [
              "<matplotlib.collections.PathCollection at 0x7efd2f100a90>"
            ]
          },
          "metadata": {},
          "execution_count": 22
        },
        {
          "output_type": "display_data",
          "data": {
            "text/plain": [
              "<Figure size 432x288 with 1 Axes>"
            ],
            "image/png": "[encoded data removed]"
          },
          "metadata": {
            "needs_background": "light"
          }
        }
      ]
    },
    {
      "cell_type": "code",
      "source": [
        "# Plot securities market line\n",
        "sml_slope = 1/c**(1/2)\n",
        "sml_risk = exp_returns*sml_slope\n",
        "plt.plot(risk, exp_returns)\n",
        "plt.plot(sml_risk, exp_returns)\n",
        "plt.scatter(mvp_risk, mvp_return)\n",
        "plt.scatter(tangency_risk, tangency_return)"
      ],
      "metadata": {
        "colab": {
          "base_uri": "https://localhost:8080/",
          "height": 282
        },
        "id": "M3sVvUhTTgLU",
        "outputId": "fdc4b9c2-3fed-4c90-d143-607158933c43"
      },
      "execution_count": 23,
      "outputs": [
        {
          "output_type": "execute_result",
          "data": {
            "text/plain": [
              "<matplotlib.collections.PathCollection at 0x7efd2f109910>"
            ]
          },
          "metadata": {},
          "execution_count": 23
        },
        {
          "output_type": "display_data",
          "data": {
            "text/plain": [
              "<Figure size 432x288 with 1 Axes>"
            ],
            "image/png": "[encoded data removed]"
          },
          "metadata": {
            "needs_background": "light"
          }
        }
      ]
    },
    {
      "cell_type": "code",
      "source": [
        "# solving target return (set to 10%)\n",
        "target_return = 0.1\n",
        "if target_return < mvp_return:\n",
        "  optimal_portfolio = mvp\n",
        "  optimal_return = mvp_return\n",
        "  optimal_risk = mvp_risk\n",
        "else:\n",
        "  l = (c - b*target_return)/d\n",
        "  m = (a*target_return - b)/d\n",
        "  optimal_portfolio = l*h + m*g\n",
        "  optimal_return = np.sum(optimal_portfolio*r)\n",
        "  optimal_risk = ((a*optimal_return**2 - 2*b*optimal_return + c)/d)**(1/2)\n",
        "\n",
        "print(optimal_return, optimal_risk, optimal_portfolio)"
      ],
      "metadata": {
        "colab": {
          "base_uri": "https://localhost:8080/"
        },
        "id": "ELLrWZJJTxP0",
        "outputId": "87aa5429-25bc-42c1-a35e-ada07a78c534"
      },
      "execution_count": 25,
      "outputs": [
        {
          "output_type": "stream",
          "name": "stdout",
          "text": [
            "0.10000000000000002 0.07042988092014626 [ 0.18138234 -0.08365751  0.15499179  0.04325068  0.11475723  0.16867272\n",
            " -0.26110872 -0.22840317  0.68650959  0.22360504]\n"
          ]
        }
      ]
    },
    {
      "cell_type": "code",
      "source": [
        "plt.plot(risk, exp_returns)\n",
        "plt.plot(sml_risk, exp_returns)\n",
        "plt.scatter(mvp_risk, mvp_return)\n",
        "plt.scatter(tangency_risk, tangency_return)\n",
        "plt.scatter(optimal_risk, optimal_return)"
      ],
      "metadata": {
        "colab": {
          "base_uri": "https://localhost:8080/",
          "height": 282
        },
        "id": "GY_AuxF_VxYA",
        "outputId": "293e23c0-ccd0-4f77-b5ba-7bcea9207bca"
      },
      "execution_count": 31,
      "outputs": [
        {
          "output_type": "execute_result",
          "data": {
            "text/plain": [
              "<matplotlib.collections.PathCollection at 0x7efd2eb44850>"
            ]
          },
          "metadata": {},
          "execution_count": 31
        },
        {
          "output_type": "display_data",
          "data": {
            "text/plain": [
              "<Figure size 432x288 with 1 Axes>"
            ],
            "image/png": "[encoded data removed]"
          },
          "metadata": {
            "needs_background": "light"
          }
        }
      ]
    },
    {
      "cell_type": "markdown",
      "source": [
        "## Test Performance"
      ],
      "metadata": {
        "id": "_QsQIqP7Vlul"
      }
    },
    {
      "cell_type": "code",
      "source": [
        "mvp_weights = pd.DataFrame(mvp, index=assets, columns=[\"MVP\"])\n",
        "tan_weights = pd.DataFrame(tangency, index=assets, columns=[\"Tan\"])\n",
        "optimal_weights = pd.DataFrame(optimal_portfolio, index=assets, columns=[\"TenPct\"])\n",
        "portfolio_weights = pd.concat([mvp_weights, tan_weights, optimal_weights], axis=1)"
      ],
      "metadata": {
        "id": "Fz10_Sp2fDVn"
      },
      "execution_count": 52,
      "outputs": []
    },
    {
      "cell_type": "code",
      "source": [
        "print(returns_df.head(4))"
      ],
      "metadata": {
        "id": "5cCC4UmwVnhh"
      },
      "execution_count": null,
      "outputs": []
    },
    {
      "cell_type": "code",
      "source": [
        "rdf = returns_df.copy()\n",
        "rdf['TenPct'] = np.ones(len(rdf))\n",
        "rdf['MVP'] = np.ones(len(rdf))\n",
        "rdf['Tangency'] = np.ones(len(rdf))\n",
        "\n",
        "for x in range(len(rdf)):\n",
        "  if x == 0:\n",
        "    rdf['TenPct'][rdf.index[x]] = 100000.0\n",
        "    rdf['MVP'][rdf.index[x]] = 100000.0\n",
        "    rdf['Tangency'][rdf.index[x]] = 100000.0\n",
        "    continue\n",
        "  step_return_opt = 0\n",
        "  step_return_mvp = 0\n",
        "  step_return_tan = 0\n",
        "  for ticker in assets:\n",
        "    step_return_opt += rdf[ticker][rdf.index[x]] * portfolio_weights[\"TenPct\"][ticker]\n",
        "    step_return_mvp += rdf[ticker][rdf.index[x]] * portfolio_weights[\"MVP\"][ticker]\n",
        "    step_return_tan += rdf[ticker][rdf.index[x]] * portfolio_weights[\"Tan\"][ticker]\n",
        "\n",
        "  rdf['TenPct'][rdf.index[x]] = rdf['TenPct'][rdf.index[x-1]] * (1+step_return_opt)\n",
        "  rdf['MVP'][rdf.index[x]] = rdf['MVP'][rdf.index[x-1]] * (1+step_return_mvp)\n",
        "  rdf['Tangency'][rdf.index[x]] = rdf['Tangency'][rdf.index[x-1]] * (1+step_return_tan)"
      ],
      "metadata": {
        "id": "TWRREXm7WQdB"
      },
      "execution_count": null,
      "outputs": []
    },
    {
      "cell_type": "code",
      "source": [
        "print(rdf.head(10))"
      ],
      "metadata": {
        "id": "SaZ8LTR5hiMn"
      },
      "execution_count": null,
      "outputs": []
    },
    {
      "cell_type": "markdown",
      "source": [
        "### Combine CPI & PPI with Portfolios"
      ],
      "metadata": {
        "id": "02EOVUN0h9mt"
      }
    },
    {
      "cell_type": "code",
      "source": [
        "with open(\"cpi-ppi-df.pkl\", 'rb') as fp:\n",
        "  inf = pickle.load(fp)"
      ],
      "metadata": {
        "id": "AtGpQ0xxiCx6"
      },
      "execution_count": 59,
      "outputs": []
    },
    {
      "cell_type": "code",
      "source": [
        "print(inf[612:])"
      ],
      "metadata": {
        "id": "RD6SyQZuiTPR"
      },
      "execution_count": null,
      "outputs": []
    },
    {
      "cell_type": "code",
      "source": [
        "inf2 = inf[612:].copy()"
      ],
      "metadata": {
        "id": "6oMNc5c4jFrB"
      },
      "execution_count": 72,
      "outputs": []
    },
    {
      "cell_type": "code",
      "source": [
        "inf2"
      ],
      "metadata": {
        "id": "tSxo1mFcjKhH"
      },
      "execution_count": null,
      "outputs": []
    },
    {
      "cell_type": "code",
      "source": [
        "inf1 = inf2.copy()\n",
        "\n",
        "cpi_scalar = 100000.0 / inf1[\"US CPI Index\"][0:1]\n",
        "ppi_scalar = 100000.0 / inf1[\"US PPI Index\"][0:1]\n",
        "\n",
        "inf1[\"US CPI Index\"] = inf1[\"US CPI Index\"].apply(lambda x: x*cpi_scalar)\n",
        "inf1[\"US PPI Index\"] = inf1[\"US PPI Index\"].apply(lambda x: x*ppi_scalar)"
      ],
      "metadata": {
        "id": "L-JWtjhEjP9S"
      },
      "execution_count": 87,
      "outputs": []
    },
    {
      "cell_type": "code",
      "source": [
        "inf1"
      ],
      "metadata": {
        "id": "OjGiRWa1kAe4"
      },
      "execution_count": null,
      "outputs": []
    },
    {
      "cell_type": "code",
      "source": [
        "portfolios = rdf[['TenPct', 'MVP', 'Tangency']].copy()"
      ],
      "metadata": {
        "id": "GspEt9jMiAaB"
      },
      "execution_count": 64,
      "outputs": []
    },
    {
      "cell_type": "code",
      "source": [
        "data_df = pd.concat([portfolios, inf1], join='outer', axis=1)"
      ],
      "metadata": {
        "id": "LiMG9ZBni69v"
      },
      "execution_count": 89,
      "outputs": []
    },
    {
      "cell_type": "code",
      "source": [
        "data_df = data_df.fillna(method='ffill')"
      ],
      "metadata": {
        "id": "R4xiiTlOkHEf"
      },
      "execution_count": null,
      "outputs": []
    },
    {
      "cell_type": "code",
      "source": [
        "data_df"
      ],
      "metadata": {
        "id": "4K5_6mqKk_L_"
      },
      "execution_count": 91,
      "outputs": []
    },
    {
      "cell_type": "code",
      "source": [
        "# Save Dataframe \n",
        "with open(\"final-df.pkl\", 'wb') as fp:\n",
        "    pickle.dump(data_df, fp)"
      ],
      "metadata": {
        "id": "9qGhqK3MkV3x"
      },
      "execution_count": 93,
      "outputs": []
    },
    {
      "cell_type": "markdown",
      "source": [
        "## Visualize Result"
      ],
      "metadata": {
        "id": "_59UWC1Xhlih"
      }
    },
    {
      "cell_type": "code",
      "source": [
        "with open(\"final-df.pkl\", 'rb') as fp:\n",
        "  df = pickle.load(fp)"
      ],
      "metadata": {
        "id": "as83qBrIkcqX"
      },
      "execution_count": 94,
      "outputs": []
    },
    {
      "cell_type": "code",
      "source": [
        "perf = df.plot(kind='line', figsize=(16,9), title='Portfolios vs CPI & PPI')\n",
        "perf.set_ylabel(\"Index Value (start at $100,000)\")"
      ],
      "metadata": {
        "colab": {
          "base_uri": "https://localhost:8080/",
          "height": 533
        },
        "id": "SantRwpkYmjd",
        "outputId": "0045e17b-0df1-42ed-e5cb-831d9a6228a6"
      },
      "execution_count": 95,
      "outputs": [
        {
          "output_type": "execute_result",
          "data": {
            "text/plain": [
              "Text(0, 0.5, 'Index Value (start at $100,000)')"
            ]
          },
          "metadata": {},
          "execution_count": 95
        },
        {
          "output_type": "display_data",
          "data": {
            "text/plain": [
              "<Figure size 1152x648 with 1 Axes>"
            ],
            "image/png": "[encoded data removed]"
          },
          "metadata": {
            "needs_background": "light"
          }
        }
      ]
    },
    {
      "cell_type": "code",
      "source": [
        "# Performance Metrics\n",
        "\n",
        "# annualized returns and standard deviation of portfolio\n",
        "def portfolio_performance(weights, meanReturns, covMatrix):\n",
        "  returns = np.sum(meanReturns*weights)*252\n",
        "  std = np.sqrt(np.dot(weights.T, np.dot(covMatrix, weights))) * np.sqrt(252)\n",
        "\n",
        "  return returns, std"
      ],
      "metadata": {
        "id": "ctBp3JwAluCM"
      },
      "execution_count": 96,
      "outputs": []
    },
    {
      "cell_type": "code",
      "source": [
        "opt_weights = np.array(portfolio_weights['TenPct'])\n",
        "mvp_weights = np.array(portfolio_weights['MVP'])\n",
        "tan_weights = np.array(portfolio_weights['Tan'])\n",
        "meanReturns = returns_df.copy().mean()\n",
        "covMatrix = returns_df.copy().cov()"
      ],
      "metadata": {
        "id": "m0ZxMH3po2QN"
      },
      "execution_count": 97,
      "outputs": []
    },
    {
      "cell_type": "code",
      "source": [
        "print(\" -- Portfolio Weights --\")\n",
        "display(portfolio_weights)\n",
        "print()\n",
        "print(\"Target 10% Portfolio (opt)\")\n",
        "returns, std = portfolio_performance(opt_weights, meanReturns, covMatrix)\n",
        "print(\"Returns:\", returns, \" Annualized Std:\", std)\n",
        "print()\n",
        "print(\"Tangency Portfolio\")\n",
        "returns, std = portfolio_performance(tan_weights, meanReturns, covMatrix)\n",
        "print(\"Returns:\", returns, \" Annualized Std:\", std)\n",
        "print()\n",
        "print(\"Minimum Variance Portfolio\")\n",
        "returns, std = portfolio_performance(mvp_weights, meanReturns, covMatrix)\n",
        "print(\"Returns:\", returns, \" Annualized Std:\", std)"
      ],
      "metadata": {
        "colab": {
          "base_uri": "https://localhost:8080/",
          "height": 536
        },
        "id": "kvbJPthUpXp0",
        "outputId": "9a058902-acaf-433b-8338-5ad832988c9f"
      },
      "execution_count": 101,
      "outputs": [
        {
          "output_type": "stream",
          "name": "stdout",
          "text": [
            " -- Portfolio Weights --\n"
          ]
        },
        {
          "output_type": "display_data",
          "data": {
            "text/plain": [
              "            MVP       Tan    TenPct\n",
              "AWK    0.008307  0.275913  0.181382\n",
              "XLE   -0.035333 -0.110052 -0.083658\n",
              "XLV    0.037776  0.219013  0.154992\n",
              "DJI    0.014826  0.058776  0.043251\n",
              "^IXIC -0.196777  0.284912  0.114757\n",
              "SPY    0.397376  0.043759  0.168673\n",
              "IYR   -0.081539 -0.359187 -0.261109\n",
              "GLTR  -0.090347 -0.303807 -0.228403\n",
              "TIP    0.855148  0.594402  0.686510\n",
              "GLD    0.090563  0.296270  0.223605"
            ],
            "text/html": [
              "\n",
              "  <div id=\"df-6ae252f6-7a56-400a-b4ad-9357a2e7ff76\">\n",
              "    <div class=\"colab-df-container\">\n",
              "      <div>\n",
              "<style scoped>\n",
              "    .dataframe tbody tr th:only-of-type {\n",
              "        vertical-align: middle;\n",
              "    }\n",
              "\n",
              "    .dataframe tbody tr th {\n",
              "        vertical-align: top;\n",
              "    }\n",
              "\n",
              "    .dataframe thead th {\n",
              "        text-align: right;\n",
              "    }\n",
              "</style>\n",
              "<table border=\"1\" class=\"dataframe\">\n",
              "  <thead>\n",
              "    <tr style=\"text-align: right;\">\n",
              "      <th></th>\n",
              "      <th>MVP</th>\n",
              "      <th>Tan</th>\n",
              "      <th>TenPct</th>\n",
              "    </tr>\n",
              "  </thead>\n",
              "  <tbody>\n",
              "    <tr>\n",
              "      <th>AWK</th>\n",
              "      <td>0.008307</td>\n",
              "      <td>0.275913</td>\n",
              "      <td>0.181382</td>\n",
              "    </tr>\n",
              "    <tr>\n",
              "      <th>XLE</th>\n",
              "      <td>-0.035333</td>\n",
              "      <td>-0.110052</td>\n",
              "      <td>-0.083658</td>\n",
              "    </tr>\n",
              "    <tr>\n",
              "      <th>XLV</th>\n",
              "      <td>0.037776</td>\n",
              "      <td>0.219013</td>\n",
              "      <td>0.154992</td>\n",
              "    </tr>\n",
              "    <tr>\n",
              "      <th>DJI</th>\n",
              "      <td>0.014826</td>\n",
              "      <td>0.058776</td>\n",
              "      <td>0.043251</td>\n",
              "    </tr>\n",
              "    <tr>\n",
              "      <th>^IXIC</th>\n",
              "      <td>-0.196777</td>\n",
              "      <td>0.284912</td>\n",
              "      <td>0.114757</td>\n",
              "    </tr>\n",
              "    <tr>\n",
              "      <th>SPY</th>\n",
              "      <td>0.397376</td>\n",
              "      <td>0.043759</td>\n",
              "      <td>0.168673</td>\n",
              "    </tr>\n",
              "    <tr>\n",
              "      <th>IYR</th>\n",
              "      <td>-0.081539</td>\n",
              "      <td>-0.359187</td>\n",
              "      <td>-0.261109</td>\n",
              "    </tr>\n",
              "    <tr>\n",
              "      <th>GLTR</th>\n",
              "      <td>-0.090347</td>\n",
              "      <td>-0.303807</td>\n",
              "      <td>-0.228403</td>\n",
              "    </tr>\n",
              "    <tr>\n",
              "      <th>TIP</th>\n",
              "      <td>0.855148</td>\n",
              "      <td>0.594402</td>\n",
              "      <td>0.686510</td>\n",
              "    </tr>\n",
              "    <tr>\n",
              "      <th>GLD</th>\n",
              "      <td>0.090563</td>\n",
              "      <td>0.296270</td>\n",
              "      <td>0.223605</td>\n",
              "    </tr>\n",
              "  </tbody>\n",
              "</table>\n",
              "</div>\n",
              "      <button class=\"colab-df-convert\" onclick=\"convertToInteractive('df-6ae252f6-7a56-400a-b4ad-9357a2e7ff76')\"\n",
              "              title=\"Convert this dataframe to an interactive table.\"\n",
              "              style=\"display:none;\">\n",
              "        \n",
              "  <svg xmlns=\"http://www.w3.org/2000/svg\" height=\"24px\"viewBox=\"0 0 24 24\"\n",
              "       width=\"24px\">\n",
              "    <path d=\"M0 0h24v24H0V0z\" fill=\"none\"/>\n",
              "    <path d=\"M18.56 5.44l.94 2.06.94-2.06 2.06-.94-2.06-.94-.94-2.06-.94 2.06-2.06.94zm-11 1L8.5 8.5l.94-2.06 2.06-.94-2.06-.94L8.5 2.5l-.94 2.06-2.06.94zm10 10l.94 2.06.94-2.06 2.06-.94-2.06-.94-.94-2.06-.94 2.06-2.06.94z\"/><path d=\"M17.41 7.96l-1.37-1.37c-.4-.4-.92-.59-1.43-.59-.52 0-1.04.2-1.43.59L10.3 9.45l-7.72 7.72c-.78.78-.78 2.05 0 2.83L4 21.41c.39.39.9.59 1.41.59.51 0 1.02-.2 1.41-.59l7.78-7.78 2.81-2.81c.8-.78.8-2.07 0-2.86zM5.41 20L4 18.59l7.72-7.72 1.47 1.35L5.41 20z\"/>\n",
              "  </svg>\n",
              "      </button>\n",
              "      \n",
              "  <style>\n",
              "    .colab-df-container {\n",
              "      display:flex;\n",
              "      flex-wrap:wrap;\n",
              "      gap: 12px;\n",
              "    }\n",
              "\n",
              "    .colab-df-convert {\n",
              "      background-color: #E8F0FE;\n",
              "      border: none;\n",
              "      border-radius: 50%;\n",
              "      cursor: pointer;\n",
              "      display: none;\n",
              "      fill: #1967D2;\n",
              "      height: 32px;\n",
              "      padding: 0 0 0 0;\n",
              "      width: 32px;\n",
              "    }\n",
              "\n",
              "    .colab-df-convert:hover {\n",
              "      background-color: #E2EBFA;\n",
              "      box-shadow: 0px 1px 2px rgba(60, 64, 67, 0.3), 0px 1px 3px 1px rgba(60, 64, 67, 0.15);\n",
              "      fill: #174EA6;\n",
              "    }\n",
              "\n",
              "    [theme=dark] .colab-df-convert {\n",
              "      background-color: #3B4455;\n",
              "      fill: #D2E3FC;\n",
              "    }\n",
              "\n",
              "    [theme=dark] .colab-df-convert:hover {\n",
              "      background-color: #434B5C;\n",
              "      box-shadow: 0px 1px 3px 1px rgba(0, 0, 0, 0.15);\n",
              "      filter: drop-shadow(0px 1px 2px rgba(0, 0, 0, 0.3));\n",
              "      fill: #FFFFFF;\n",
              "    }\n",
              "  </style>\n",
              "\n",
              "      <script>\n",
              "        const buttonEl =\n",
              "          document.querySelector('#df-6ae252f6-7a56-400a-b4ad-9357a2e7ff76 button.colab-df-convert');\n",
              "        buttonEl.style.display =\n",
              "          google.colab.kernel.accessAllowed ? 'block' : 'none';\n",
              "\n",
              "        async function convertToInteractive(key) {\n",
              "          const element = document.querySelector('#df-6ae252f6-7a56-400a-b4ad-9357a2e7ff76');\n",
              "          const dataTable =\n",
              "            await google.colab.kernel.invokeFunction('convertToInteractive',\n",
              "                                                     [key], {});\n",
              "          if (!dataTable) return;\n",
              "\n",
              "          const docLinkHtml = 'Like what you see? Visit the ' +\n",
              "            '<a target=\"_blank\" href=https://colab.research.google.com/notebooks/data_table.ipynb>data table notebook</a>'\n",
              "            + ' to learn more about interactive tables.';\n",
              "          element.innerHTML = '';\n",
              "          dataTable['output_type'] = 'display_data';\n",
              "          await google.colab.output.renderOutput(dataTable, element);\n",
              "          const docLink = document.createElement('div');\n",
              "          docLink.innerHTML = docLinkHtml;\n",
              "          element.appendChild(docLink);\n",
              "        }\n",
              "      </script>\n",
              "    </div>\n",
              "  </div>\n",
              "  "
            ]
          },
          "metadata": {}
        },
        {
          "output_type": "stream",
          "name": "stdout",
          "text": [
            "\n",
            "Target 10% Portfolio (opt)\n",
            "Returns: 0.09593833556817034  Annualized Std: 0.07042988092014621\n",
            "\n",
            "Tangency Portfolio\n",
            "Returns: 0.12917167977371988  Annualized Std: 0.09326012989989838\n",
            "\n",
            "Minimum Variance Portfolio\n",
            "Returns: 0.03509178919569238  Annualized Std: 0.04767742061933739\n"
          ]
        }
      ]
    }
  ]
}