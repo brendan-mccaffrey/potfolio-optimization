{
  "nbformat": 4,
  "nbformat_minor": 0,
  "metadata": {
    "colab": {
      "name": "Commodity-Optimization.ipynb",
      "provenance": [],
      "collapsed_sections": [],
      "authorship_tag": "ABX9TyNjsu0X7u9cpSc0jTHVIrtE",
      "include_colab_link": true
    },
    "kernelspec": {
      "name": "python3",
      "display_name": "Python 3"
    },
    "language_info": {
      "name": "python"
    }
  },
  "cells": [
    {
      "cell_type": "markdown",
      "metadata": {
        "id": "view-in-github",
        "colab_type": "text"
      },
      "source": [
        "<a href=\"https://colab.research.google.com/github/brendan-mccaffrey/potfolio-optimization/blob/main/CommodityOptimization.ipynb\" target=\"_parent\"><img src=\"https://colab.research.google.com/assets/colab-badge.svg\" alt=\"Open In Colab\"/></a>"
      ]
    },
    {
      "cell_type": "code",
      "execution_count": null,
      "metadata": {
        "colab": {
          "base_uri": "https://localhost:8080/"
        },
        "id": "kqe7o4wzRK8M",
        "outputId": "d64ba12e-5100-4765-aa03-4e07c74df131"
      },
      "outputs": [
        {
          "output_type": "stream",
          "name": "stdout",
          "text": [
            "Requirement already satisfied: mpt in /usr/local/lib/python3.7/dist-packages (0.1.0)\n",
            "Requirement already satisfied: mdt in /usr/local/lib/python3.7/dist-packages (from mpt) (1.2.6)\n",
            "Requirement already satisfied: pyyaml in /usr/local/lib/python3.7/dist-packages (from mdt->mpt) (3.13)\n",
            "Requirement already satisfied: scipy>=0.12.1 in /usr/local/lib/python3.7/dist-packages (from mdt->mpt) (1.4.1)\n",
            "Requirement already satisfied: tatsu in /usr/local/lib/python3.7/dist-packages (from mdt->mpt) (4.4.0)\n",
            "Requirement already satisfied: matplotlib>=1.5.1 in /usr/local/lib/python3.7/dist-packages (from mdt->mpt) (3.2.2)\n",
            "Requirement already satisfied: pyopencl>=2015.2 in /usr/local/lib/python3.7/dist-packages (from mdt->mpt) (2022.1.3)\n",
            "Requirement already satisfied: nibabel in /usr/local/lib/python3.7/dist-packages (from mdt->mpt) (3.0.2)\n",
            "Requirement already satisfied: mot>=0.11.2 in /usr/local/lib/python3.7/dist-packages (from mdt->mpt) (0.11.3)\n",
            "Requirement already satisfied: argcomplete in /usr/local/lib/python3.7/dist-packages (from mdt->mpt) (2.0.0)\n",
            "Requirement already satisfied: numpy>=1.9.0 in /usr/local/lib/python3.7/dist-packages (from mdt->mpt) (1.21.6)\n",
            "Requirement already satisfied: cycler>=0.10 in /usr/local/lib/python3.7/dist-packages (from matplotlib>=1.5.1->mdt->mpt) (0.11.0)\n",
            "Requirement already satisfied: pyparsing!=2.0.4,!=2.1.2,!=2.1.6,>=2.0.1 in /usr/local/lib/python3.7/dist-packages (from matplotlib>=1.5.1->mdt->mpt) (3.0.8)\n",
            "Requirement already satisfied: python-dateutil>=2.1 in /usr/local/lib/python3.7/dist-packages (from matplotlib>=1.5.1->mdt->mpt) (2.8.2)\n",
            "Requirement already satisfied: kiwisolver>=1.0.1 in /usr/local/lib/python3.7/dist-packages (from matplotlib>=1.5.1->mdt->mpt) (1.4.2)\n",
            "Requirement already satisfied: typing-extensions in /usr/local/lib/python3.7/dist-packages (from kiwisolver>=1.0.1->matplotlib>=1.5.1->mdt->mpt) (4.2.0)\n",
            "Requirement already satisfied: pytools>=2021.2.7 in /usr/local/lib/python3.7/dist-packages (from pyopencl>=2015.2->mdt->mpt) (2022.1.7)\n",
            "Requirement already satisfied: platformdirs>=2.2.0 in /usr/local/lib/python3.7/dist-packages (from pyopencl>=2015.2->mdt->mpt) (2.5.2)\n",
            "Requirement already satisfied: six>=1.5 in /usr/local/lib/python3.7/dist-packages (from python-dateutil>=2.1->matplotlib>=1.5.1->mdt->mpt) (1.15.0)\n",
            "Requirement already satisfied: importlib-metadata<5,>=0.23 in /usr/local/lib/python3.7/dist-packages (from argcomplete->mdt->mpt) (4.11.3)\n",
            "Requirement already satisfied: zipp>=0.5 in /usr/local/lib/python3.7/dist-packages (from importlib-metadata<5,>=0.23->argcomplete->mdt->mpt) (3.8.0)\n",
            "Requirement already satisfied: pickle5 in /usr/local/lib/python3.7/dist-packages (0.0.12)\n"
          ]
        }
      ],
      "source": [
        "from cmath import nan\n",
        "import numpy as np\n",
        "import pandas as pd\n",
        "!pip install mpt\n",
        "from mpt import *\n",
        "!pip3 install pickle5\n",
        "import pickle5 as pickle"
      ]
    },
    {
      "cell_type": "markdown",
      "source": [
        "From raw commodities historical data, generate returns dataframe"
      ],
      "metadata": {
        "id": "YV56B9Ex3IJS"
      }
    },
    {
      "cell_type": "code",
      "source": [
        "filepath = \"./data/commodities.pkl\"\n",
        "\n",
        "with open(filepath, \"rb\") as dt:\n",
        "  df = pickle.load(dt)\n",
        "\n",
        "df.set_index(\"Date\", inplace=True)\n",
        "\n",
        "print(\"Original Dataframe\")\n",
        "print(df.head(5))\n",
        "\n",
        "print(\"Returns Dataframe\")\n",
        "df = df.pct_change()\n",
        "print(df.head(5))"
      ],
      "metadata": {
        "colab": {
          "base_uri": "https://localhost:8080/"
        },
        "id": "lbnz1EKR3Ncj",
        "outputId": "05df69cc-310c-4154-facb-234b6819d3c4"
      },
      "execution_count": null,
      "outputs": [
        {
          "output_type": "stream",
          "name": "stdout",
          "text": [
            "Original Dataframe\n",
            "           Gold (USD per Troy Ounce)  Silver (USD per Troy Ounce)  \\\n",
            "Date                                                                \n",
            "1980-01-31                674.371338                    39.284318   \n",
            "1980-02-29                665.289551                    35.598095   \n",
            "1980-03-31                553.581055                    24.735476   \n",
            "1980-04-30                517.409912                    14.978250   \n",
            "1980-05-31                513.794922                    12.664350   \n",
            "1980-06-30                600.716553                    15.807762   \n",
            "\n",
            "            Platinum (USD per Troy Ounce)  Aluminum (USD/mt)  Copper (USD/mt)  \\\n",
            "Date                                                                            \n",
            "1980-01-31                     806.786087        2054.860107      2592.633423   \n",
            "1980-02-29                     882.315238        2131.008545      2916.711991   \n",
            "1980-03-31                     746.544286        1978.378906      2303.827900   \n",
            "1980-04-30                     589.060455        1932.455566      2074.547555   \n",
            "1980-05-31                     559.650455        1775.803711      2076.752309   \n",
            "1980-06-30                     641.838095        1668.960449      2006.204200   \n",
            "\n",
            "            Iron Ore (USD/mt)  Lead (USD/mt)  Nickel (USD/mt)  Tin (USD/mt)  \\\n",
            "Date                                                                          \n",
            "1980-01-31              12.15    1111.128418      6584.800781  16973.587904   \n",
            "1980-02-29              12.15    1166.243896      6978.927734  17090.213164   \n",
            "1980-03-31              12.15    1117.742432      6733.787109  17460.590400   \n",
            "1980-04-30              12.15     970.032715      6233.369141  17041.712600   \n",
            "1980-05-31              12.15     793.663086      6000.769531  17180.604736   \n",
            "1980-06-30              12.15     736.343018      6294.833984  17211.467264   \n",
            "\n",
            "            Zinc (USD/mt)  ...  Sunflower Oil (USD/m^3)  Olive Oil (USD/mt)  \\\n",
            "Date                       ...                                                \n",
            "1980-01-31     773.821533  ...               566.926957         2271.722799   \n",
            "1980-02-29     868.620361  ...               573.958609         2256.483179   \n",
            "1980-03-31     740.752441  ...               535.284522         2188.113541   \n",
            "1980-04-30     707.683105  ...               486.062957         2081.167871   \n",
            "1980-05-31     701.069092  ...               502.763130         2044.541259   \n",
            "1980-06-30     676.818359  ...               493.973565         2053.293867   \n",
            "\n",
            "            TPalm Oil (USD/mt)  Soybean Oil (USD/mt)  Hard Logs (USD/m^3)  \\\n",
            "Date                                                                        \n",
            "1980-01-31          547.053904            525.581408           146.075470   \n",
            "1980-02-29          555.317559            518.747086           159.565460   \n",
            "1980-03-31          518.131115            486.780096           155.275452   \n",
            "1980-04-30          504.909268            451.065252           152.785461   \n",
            "1980-05-31          482.597402            463.190662           162.735474   \n",
            "1980-06-30          458.632805            485.016400           164.425476   \n",
            "\n",
            "            Soft Logs (USD/m^3)  Soft Sawnwood (USD/m^3)  \\\n",
            "Date                                                       \n",
            "1980-01-31            84.391097               138.004214   \n",
            "1980-02-29            80.249203               131.231001   \n",
            "1980-03-31            80.249203               131.231001   \n",
            "1980-04-30            87.497518               143.084123   \n",
            "1980-05-31            87.497518               143.084123   \n",
            "1980-06-30            87.497518               143.084123   \n",
            "\n",
            "            Hard Sawnwood (USD/m^3)  Rubber (US cents/lb)  \\\n",
            "Date                                                        \n",
            "1980-01-31               297.609743             68.820007   \n",
            "1980-02-29               308.289257             75.309998   \n",
            "1980-03-31               304.922239             66.350006   \n",
            "1980-04-30               302.950034             60.549999   \n",
            "1980-05-31               310.720562             60.389999   \n",
            "1980-06-30               312.026597             61.869999   \n",
            "\n",
            "            Cotton (US cents/lb)  \n",
            "Date                              \n",
            "1980-01-31             88.720001  \n",
            "1980-02-29             97.209991  \n",
            "1980-03-31             93.529999  \n",
            "1980-04-30             90.559998  \n",
            "1980-05-31             88.399994  \n",
            "1980-06-30             84.140015  \n",
            "\n",
            "[6 rows x 45 columns]\n",
            "Returns Dataframe\n",
            "            Gold (USD per Troy Ounce)  Silver (USD per Troy Ounce)  \\\n",
            "Date                                                                 \n",
            "1980-01-31                        NaN                          NaN   \n",
            "1980-02-29                  -0.013467                    -0.093834   \n",
            "1980-03-31                  -0.167910                    -0.305146   \n",
            "1980-04-30                  -0.065340                    -0.394463   \n",
            "1980-05-31                  -0.006987                    -0.154484   \n",
            "1980-06-30                   0.169176                     0.248209   \n",
            "\n",
            "            Platinum (USD per Troy Ounce)  Aluminum (USD/mt)  Copper (USD/mt)  \\\n",
            "Date                                                                            \n",
            "1980-01-31                            NaN                NaN              NaN   \n",
            "1980-02-29                       0.093617           0.037058         0.125000   \n",
            "1980-03-31                      -0.153880          -0.071623        -0.210128   \n",
            "1980-04-30                      -0.210950          -0.023213        -0.099521   \n",
            "1980-05-31                      -0.049927          -0.081064         0.001063   \n",
            "1980-06-30                       0.146855          -0.060166        -0.033970   \n",
            "\n",
            "            Iron Ore (USD/mt)  Lead (USD/mt)  Nickel (USD/mt)  Tin (USD/mt)  \\\n",
            "Date                                                                          \n",
            "1980-01-31                NaN            NaN              NaN           NaN   \n",
            "1980-02-29                0.0       0.049603         0.059854      0.006871   \n",
            "1980-03-31                0.0      -0.041588        -0.035126      0.021672   \n",
            "1980-04-30                0.0      -0.132150        -0.074314     -0.023990   \n",
            "1980-05-31                0.0      -0.181818        -0.037315      0.008150   \n",
            "1980-06-30                0.0      -0.072222         0.049004      0.001796   \n",
            "\n",
            "            Zinc (USD/mt)  ...  Sunflower Oil (USD/m^3)  Olive Oil (USD/mt)  \\\n",
            "Date                       ...                                                \n",
            "1980-01-31            NaN  ...                      NaN                 NaN   \n",
            "1980-02-29       0.122507  ...                 0.012403           -0.006708   \n",
            "1980-03-31      -0.147208  ...                -0.067381           -0.030299   \n",
            "1980-04-30      -0.044643  ...                -0.091954           -0.048876   \n",
            "1980-05-31      -0.009346  ...                 0.034358           -0.017599   \n",
            "1980-06-30      -0.034591  ...                -0.017483            0.004281   \n",
            "\n",
            "            TPalm Oil (USD/mt)  Soybean Oil (USD/mt)  Hard Logs (USD/m^3)  \\\n",
            "Date                                                                        \n",
            "1980-01-31                 NaN                   NaN                  NaN   \n",
            "1980-02-29            0.015106             -0.013003             0.092349   \n",
            "1980-03-31           -0.066964             -0.061623            -0.026886   \n",
            "1980-04-30           -0.025518             -0.073370            -0.016036   \n",
            "1980-05-31           -0.044190              0.026882             0.065124   \n",
            "1980-06-30           -0.049658              0.047120             0.010385   \n",
            "\n",
            "            Soft Logs (USD/m^3)  Soft Sawnwood (USD/m^3)  \\\n",
            "Date                                                       \n",
            "1980-01-31                  NaN                      NaN   \n",
            "1980-02-29            -0.049080                -0.049080   \n",
            "1980-03-31             0.000000                 0.000000   \n",
            "1980-04-30             0.090323                 0.090323   \n",
            "1980-05-31             0.000000                 0.000000   \n",
            "1980-06-30             0.000000                 0.000000   \n",
            "\n",
            "            Hard Sawnwood (USD/m^3)  Rubber (US cents/lb)  \\\n",
            "Date                                                        \n",
            "1980-01-31                      NaN                   NaN   \n",
            "1980-02-29                 0.035884              0.094304   \n",
            "1980-03-31                -0.010922             -0.118975   \n",
            "1980-04-30                -0.006468             -0.087415   \n",
            "1980-05-31                 0.025650             -0.002642   \n",
            "1980-06-30                 0.004203              0.024507   \n",
            "\n",
            "            Cotton (US cents/lb)  \n",
            "Date                              \n",
            "1980-01-31                   NaN  \n",
            "1980-02-29              0.095694  \n",
            "1980-03-31             -0.037856  \n",
            "1980-04-30             -0.031755  \n",
            "1980-05-31             -0.023852  \n",
            "1980-06-30             -0.048190  \n",
            "\n",
            "[6 rows x 45 columns]\n"
          ]
        }
      ]
    },
    {
      "cell_type": "markdown",
      "source": [
        "Save returns dataframe to pickle file"
      ],
      "metadata": {
        "id": "saU9Rd7O3dfS"
      }
    },
    {
      "cell_type": "code",
      "source": [
        "print(\"Saving to file\")\n",
        "filepath = \"./data/commodity-returns.pkl\"\n",
        "with open(filepath, 'wb') as fp:\n",
        "  pickle.dump(df, fp)"
      ],
      "metadata": {
        "colab": {
          "base_uri": "https://localhost:8080/"
        },
        "id": "wRXui2rs3f4P",
        "outputId": "1dc66d88-5b27-4008-b2b4-ede0a6c20869"
      },
      "execution_count": null,
      "outputs": [
        {
          "output_type": "stream",
          "name": "stdout",
          "text": [
            "Saving to file\n"
          ]
        }
      ]
    },
    {
      "cell_type": "code",
      "source": [
        "# Check to see if commodity returns was saved successfully\n",
        "filepath = \"./data/commodity-returns.pkl\"\n",
        "\n",
        "with open(filepath, \"rb\") as dt:\n",
        "  cdf = pickle.load(dt)\n",
        "print(cdf.head(5))"
      ],
      "metadata": {
        "colab": {
          "base_uri": "https://localhost:8080/"
        },
        "id": "qdFgpVki5-UA",
        "outputId": "62919bb2-c540-423e-fb80-8782d9c53653"
      },
      "execution_count": null,
      "outputs": [
        {
          "output_type": "stream",
          "name": "stdout",
          "text": [
            "            Gold (USD per Troy Ounce)  Silver (USD per Troy Ounce)  \\\n",
            "Date                                                                 \n",
            "1980-01-31                        NaN                          NaN   \n",
            "1980-02-29                  -0.013467                    -0.093834   \n",
            "1980-03-31                  -0.167910                    -0.305146   \n",
            "1980-04-30                  -0.065340                    -0.394463   \n",
            "1980-05-31                  -0.006987                    -0.154484   \n",
            "\n",
            "            Platinum (USD per Troy Ounce)  Aluminum (USD/mt)  Copper (USD/mt)  \\\n",
            "Date                                                                            \n",
            "1980-01-31                            NaN                NaN              NaN   \n",
            "1980-02-29                       0.093617           0.037058         0.125000   \n",
            "1980-03-31                      -0.153880          -0.071623        -0.210128   \n",
            "1980-04-30                      -0.210950          -0.023213        -0.099521   \n",
            "1980-05-31                      -0.049927          -0.081064         0.001063   \n",
            "\n",
            "            Iron Ore (USD/mt)  Lead (USD/mt)  Nickel (USD/mt)  Tin (USD/mt)  \\\n",
            "Date                                                                          \n",
            "1980-01-31                NaN            NaN              NaN           NaN   \n",
            "1980-02-29                0.0       0.049603         0.059854      0.006871   \n",
            "1980-03-31                0.0      -0.041588        -0.035126      0.021672   \n",
            "1980-04-30                0.0      -0.132150        -0.074314     -0.023990   \n",
            "1980-05-31                0.0      -0.181818        -0.037315      0.008150   \n",
            "\n",
            "            Zinc (USD/mt)  ...  Sunflower Oil (USD/m^3)  Olive Oil (USD/mt)  \\\n",
            "Date                       ...                                                \n",
            "1980-01-31            NaN  ...                      NaN                 NaN   \n",
            "1980-02-29       0.122507  ...                 0.012403           -0.006708   \n",
            "1980-03-31      -0.147208  ...                -0.067381           -0.030299   \n",
            "1980-04-30      -0.044643  ...                -0.091954           -0.048876   \n",
            "1980-05-31      -0.009346  ...                 0.034358           -0.017599   \n",
            "\n",
            "            TPalm Oil (USD/mt)  Soybean Oil (USD/mt)  Hard Logs (USD/m^3)  \\\n",
            "Date                                                                        \n",
            "1980-01-31                 NaN                   NaN                  NaN   \n",
            "1980-02-29            0.015106             -0.013003             0.092349   \n",
            "1980-03-31           -0.066964             -0.061623            -0.026886   \n",
            "1980-04-30           -0.025518             -0.073370            -0.016036   \n",
            "1980-05-31           -0.044190              0.026882             0.065124   \n",
            "\n",
            "            Soft Logs (USD/m^3)  Soft Sawnwood (USD/m^3)  \\\n",
            "Date                                                       \n",
            "1980-01-31                  NaN                      NaN   \n",
            "1980-02-29            -0.049080                -0.049080   \n",
            "1980-03-31             0.000000                 0.000000   \n",
            "1980-04-30             0.090323                 0.090323   \n",
            "1980-05-31             0.000000                 0.000000   \n",
            "\n",
            "            Hard Sawnwood (USD/m^3)  Rubber (US cents/lb)  \\\n",
            "Date                                                        \n",
            "1980-01-31                      NaN                   NaN   \n",
            "1980-02-29                 0.035884              0.094304   \n",
            "1980-03-31                -0.010922             -0.118975   \n",
            "1980-04-30                -0.006468             -0.087415   \n",
            "1980-05-31                 0.025650             -0.002642   \n",
            "\n",
            "            Cotton (US cents/lb)  \n",
            "Date                              \n",
            "1980-01-31                   NaN  \n",
            "1980-02-29              0.095694  \n",
            "1980-03-31             -0.037856  \n",
            "1980-04-30             -0.031755  \n",
            "1980-05-31             -0.023852  \n",
            "\n",
            "[5 rows x 45 columns]\n"
          ]
        }
      ]
    },
    {
      "cell_type": "markdown",
      "source": [
        "Store asset names"
      ],
      "metadata": {
        "id": "5dQpYALV3myo"
      }
    },
    {
      "cell_type": "code",
      "source": [
        "assets = cdf.columns"
      ],
      "metadata": {
        "id": "Gm9kBsfr3ozU"
      },
      "execution_count": null,
      "outputs": []
    },
    {
      "cell_type": "markdown",
      "source": [
        "Perform weight optimization"
      ],
      "metadata": {
        "id": "gbGSGFkl3qsq"
      }
    },
    {
      "cell_type": "code",
      "source": [
        "from numpy.linalg import inv"
      ],
      "metadata": {
        "id": "P156WrUo61Le"
      },
      "execution_count": null,
      "outputs": []
    },
    {
      "cell_type": "code",
      "source": [
        "# calculate historical mean return for each asset\n",
        "E = np.array(cdf.mean(axis=0)).reshape(-1, 1)\n",
        "\n",
        "# Calculate covariance matrix of assets' returns\n",
        "cov_matrix = np.array(cdf.cov())\n",
        "\n",
        "# Ones vector\n",
        "ones = np.ones((E.shape[0], 1))\n",
        "\n",
        "# Zeros\n",
        "zeros = np.zeros((2, 2))\n",
        "\n",
        "# Put together the A matrix\n",
        "A = 2 * cov_matrix\n",
        "A = np.append(A, E.T, axis=0)\n",
        "A = np.append(A, ones.T, axis=0)\n",
        "temp = np.append(E, ones, axis=1)\n",
        "temp = np.append(temp, zeros, axis=0)\n",
        "A = np.append(A, temp, axis=1)\n",
        "\n",
        "# Put together the b vector\n",
        "b = np.zeros((A.shape[1], 1))\n",
        "\n",
        "# I set target return to be the expected return of commodities\n",
        "b[A.shape[1] - 2][0] = E[0]\n",
        "b[A.shape[1] - 1][0] = 1\n",
        "\n",
        "# Now we want to optimize using matrix algebra\n",
        "results = inv(A) @ b\n",
        "\n",
        "# Grab first 4 elements of results because those are the weights\n",
        "# Recall that we optimize across 4 assets so there are 4 weights\n",
        "opt_W = results[: cdf.shape[1]]\n",
        "\n",
        "\n",
        "optimal_weights = pd.DataFrame(opt_W, columns=[\"Optimal Weights\"], index=assets)"
      ],
      "metadata": {
        "id": "mmthJDMu3sy6"
      },
      "execution_count": null,
      "outputs": []
    },
    {
      "cell_type": "markdown",
      "source": [
        "## Check the result\n",
        "This analytical approach allows for short positions.\n",
        "If we only want positive weights we must use gradient descent"
      ],
      "metadata": {
        "id": "EcNy_pKo65qd"
      }
    },
    {
      "cell_type": "code",
      "source": [
        "# show the result\n",
        "print(optimal_weights)"
      ],
      "metadata": {
        "id": "x2D46iOe313a"
      },
      "execution_count": null,
      "outputs": []
    },
    {
      "cell_type": "code",
      "source": [
        "for "
      ],
      "metadata": {
        "colab": {
          "base_uri": "https://localhost:8080/"
        },
        "id": "CNibk2349CnG",
        "outputId": "41d31810-e0e2-4d30-f7c4-e178ae2ccbc5"
      },
      "execution_count": null,
      "outputs": [
        {
          "output_type": "stream",
          "name": "stdout",
          "text": [
            "(503, 45)\n"
          ]
        }
      ]
    },
    {
      "cell_type": "code",
      "source": [
        "import matplotlib.pyplot as plt\n",
        "%matplotlib inline"
      ],
      "metadata": {
        "id": "cQDXF5dU64Sr"
      },
      "execution_count": null,
      "outputs": []
    }
  ]
}